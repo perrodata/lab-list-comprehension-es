{
 "cells": [
  {
   "cell_type": "markdown",
   "metadata": {},
   "source": [
    "# List Comprehensions\n",
    "\n",
    "Completa el siguiente conjunto de ejercicios para solidificar tu conocimiento sobre las comprensiones de lista."
   ]
  },
  {
   "cell_type": "code",
   "execution_count": 1,
   "metadata": {},
   "outputs": [],
   "source": [
    "import os"
   ]
  },
  {
   "cell_type": "markdown",
   "metadata": {},
   "source": [
    "#### 1. Usa una list comprehension para crear e imprimir una lista de enteros consecutivos que comience con 1 y termine con 50."
   ]
  },
  {
   "cell_type": "code",
   "execution_count": 8,
   "metadata": {},
   "outputs": [
    {
     "name": "stdout",
     "output_type": "stream",
     "text": [
      "[1, 2, 3, 4, 5, 6, 7, 8, 9, 10, 11, 12, 13, 14, 15, 16, 17, 18, 19, 20, 21, 22, 23, 24, 25, 26, 27, 28, 29, 30, 31, 32, 33, 34, 35, 36, 37, 38, 39, 40, 41, 42, 43, 44, 45, 46, 47, 48, 49, 50]\n"
     ]
    }
   ],
   "source": [
    "new_list = []\n",
    "for i in range(1, 51):\n",
    "    new_list.append(i)\n",
    "print(new_list)"
   ]
  },
  {
   "cell_type": "code",
   "execution_count": 9,
   "metadata": {},
   "outputs": [
    {
     "name": "stdout",
     "output_type": "stream",
     "text": [
      "[1, 2, 3, 4, 5, 6, 7, 8, 9, 10, 11, 12, 13, 14, 15, 16, 17, 18, 19, 20, 21, 22, 23, 24, 25, 26, 27, 28, 29, 30, 31, 32, 33, 34, 35, 36, 37, 38, 39, 40, 41, 42, 43, 44, 45, 46, 47, 48, 49, 50]\n"
     ]
    }
   ],
   "source": [
    "new_comp_list = [i for i in range(1,51)]\n",
    "print(new_comp_list)"
   ]
  },
  {
   "cell_type": "markdown",
   "metadata": {},
   "source": [
    "#### 2. Usa una list comprehension para crear y imprimir una lista de numeros pares entre 2 y 200."
   ]
  },
  {
   "cell_type": "code",
   "execution_count": 10,
   "metadata": {},
   "outputs": [
    {
     "name": "stdout",
     "output_type": "stream",
     "text": [
      "[2, 4, 6, 8, 10, 12, 14, 16, 18, 20, 22, 24, 26, 28, 30, 32, 34, 36, 38, 40, 42, 44, 46, 48, 50, 52, 54, 56, 58, 60, 62, 64, 66, 68, 70, 72, 74, 76, 78, 80, 82, 84, 86, 88, 90, 92, 94, 96, 98, 100, 102, 104, 106, 108, 110, 112, 114, 116, 118, 120, 122, 124, 126, 128, 130, 132, 134, 136, 138, 140, 142, 144, 146, 148, 150, 152, 154, 156, 158, 160, 162, 164, 166, 168, 170, 172, 174, 176, 178, 180, 182, 184, 186, 188, 190, 192, 194, 196, 198]\n"
     ]
    }
   ],
   "source": [
    "list_pares = []\n",
    "for i in range(2,200,2):\n",
    "    list_pares.append(i)\n",
    "print(list_pares)"
   ]
  },
  {
   "cell_type": "code",
   "execution_count": 12,
   "metadata": {},
   "outputs": [
    {
     "name": "stdout",
     "output_type": "stream",
     "text": [
      "[2, 4, 6, 8, 10, 12, 14, 16, 18, 20, 22, 24, 26, 28, 30, 32, 34, 36, 38, 40, 42, 44, 46, 48, 50, 52, 54, 56, 58, 60, 62, 64, 66, 68, 70, 72, 74, 76, 78, 80, 82, 84, 86, 88, 90, 92, 94, 96, 98, 100, 102, 104, 106, 108, 110, 112, 114, 116, 118, 120, 122, 124, 126, 128, 130, 132, 134, 136, 138, 140, 142, 144, 146, 148, 150, 152, 154, 156, 158, 160, 162, 164, 166, 168, 170, 172, 174, 176, 178, 180, 182, 184, 186, 188, 190, 192, 194, 196, 198]\n"
     ]
    }
   ],
   "source": [
    "List_pares_comp = [i for i in range(2,200,2)]\n",
    "print(List_pares_comp)"
   ]
  },
  {
   "cell_type": "markdown",
   "metadata": {},
   "source": [
    "#### 3. Usa una comprensión de lista para crear e imprimir una lista que contenga todos los elementos del siguiente array de 10 x 4."
   ]
  },
  {
   "cell_type": "code",
   "execution_count": 14,
   "metadata": {},
   "outputs": [],
   "source": [
    "a = [[0.84062117, 0.48006452, 0.7876326 , 0.77109654],\n",
    "       [0.44409793, 0.09014516, 0.81835917, 0.87645456],\n",
    "       [0.7066597 , 0.09610873, 0.41247947, 0.57433389],\n",
    "       [0.29960807, 0.42315023, 0.34452557, 0.4751035 ],\n",
    "       [0.17003563, 0.46843998, 0.92796258, 0.69814654],\n",
    "       [0.41290051, 0.19561071, 0.16284783, 0.97016248],\n",
    "       [0.71725408, 0.87702738, 0.31244595, 0.76615487],\n",
    "       [0.20754036, 0.57871812, 0.07214068, 0.40356048],\n",
    "       [0.12149553, 0.53222417, 0.9976855 , 0.12536346],\n",
    "       [0.80930099, 0.50962849, 0.94555126, 0.33364763]];"
   ]
  },
  {
   "cell_type": "code",
   "execution_count": 16,
   "metadata": {},
   "outputs": [
    {
     "name": "stdout",
     "output_type": "stream",
     "text": [
      "[0.84062117, 0.48006452, 0.7876326, 0.77109654, 0.44409793, 0.09014516, 0.81835917, 0.87645456, 0.7066597, 0.09610873, 0.41247947, 0.57433389, 0.29960807, 0.42315023, 0.34452557, 0.4751035, 0.17003563, 0.46843998, 0.92796258, 0.69814654, 0.41290051, 0.19561071, 0.16284783, 0.97016248, 0.71725408, 0.87702738, 0.31244595, 0.76615487, 0.20754036, 0.57871812, 0.07214068, 0.40356048, 0.12149553, 0.53222417, 0.9976855, 0.12536346, 0.80930099, 0.50962849, 0.94555126, 0.33364763]\n",
      "40\n"
     ]
    }
   ],
   "source": [
    "list_joint =[]\n",
    "for i in a:\n",
    "    for j in i:\n",
    "        list_joint.append(j)\n",
    "print(list_joint)\n",
    "print(len(list_joint))\n"
   ]
  },
  {
   "cell_type": "code",
   "execution_count": 19,
   "metadata": {},
   "outputs": [
    {
     "name": "stdout",
     "output_type": "stream",
     "text": [
      "40\n"
     ]
    }
   ],
   "source": [
    "list_joint_comp=[j for i in a for j in i]\n",
    "print(len(list_joint_comp))"
   ]
  },
  {
   "cell_type": "markdown",
   "metadata": {},
   "source": [
    "#### 4. Añade una condición a la comprensión de lista anterior para que solo se impriman los valores mayores o iguales a 0.5."
   ]
  },
  {
   "cell_type": "code",
   "execution_count": null,
   "metadata": {},
   "outputs": [],
   "source": [
    "# tu solución aquí"
   ]
  },
  {
   "cell_type": "code",
   "execution_count": 25,
   "metadata": {},
   "outputs": [
    {
     "name": "stdout",
     "output_type": "stream",
     "text": [
      "[0.84062117, 0.7876326, 0.77109654, 0.81835917, 0.87645456, 0.7066597, 0.57433389, 0.92796258, 0.69814654, 0.97016248, 0.71725408, 0.87702738, 0.76615487, 0.57871812, 0.53222417, 0.9976855, 0.80930099, 0.50962849, 0.94555126]\n",
      "19\n"
     ]
    }
   ],
   "source": [
    "list_joint2 =[]\n",
    "for i in a:\n",
    "    for j in i:\n",
    "        if j>=0.5:\n",
    "            list_joint2.append(j)\n",
    "print(list_joint2)\n",
    "print(len(list_joint2))"
   ]
  },
  {
   "cell_type": "code",
   "execution_count": 26,
   "metadata": {},
   "outputs": [
    {
     "name": "stdout",
     "output_type": "stream",
     "text": [
      "19\n"
     ]
    }
   ],
   "source": [
    "list_joint2com=[j for i in a for j in i if j>=0.5]\n",
    "print(len(list_joint2com))"
   ]
  },
  {
   "cell_type": "markdown",
   "metadata": {},
   "source": [
    "#### 5. Usa una comprensión de lista para crear e imprimir una lista que contenga todos los elementos del siguiente array de 5 x 2 x 3."
   ]
  },
  {
   "cell_type": "code",
   "execution_count": 27,
   "metadata": {},
   "outputs": [],
   "source": [
    "b = [[[0.55867166, 0.06210792, 0.08147297],\n",
    "        [0.82579068, 0.91512478, 0.06833034]],\n",
    "\n",
    "       [[0.05440634, 0.65857693, 0.30296619],\n",
    "        [0.06769833, 0.96031863, 0.51293743]],\n",
    "\n",
    "       [[0.09143215, 0.71893382, 0.45850679],\n",
    "        [0.58256464, 0.59005654, 0.56266457]],\n",
    "\n",
    "       [[0.71600294, 0.87392666, 0.11434044],\n",
    "        [0.8694668 , 0.65669313, 0.10708681]],\n",
    "\n",
    "       [[0.07529684, 0.46470767, 0.47984544],\n",
    "        [0.65368638, 0.14901286, 0.23760688]]];"
   ]
  },
  {
   "cell_type": "code",
   "execution_count": 29,
   "metadata": {},
   "outputs": [
    {
     "name": "stdout",
     "output_type": "stream",
     "text": [
      "[0.55867166, 0.06210792, 0.08147297, 0.82579068, 0.91512478, 0.06833034, 0.05440634, 0.65857693, 0.30296619, 0.06769833, 0.96031863, 0.51293743, 0.09143215, 0.71893382, 0.45850679, 0.58256464, 0.59005654, 0.56266457, 0.71600294, 0.87392666, 0.11434044, 0.8694668, 0.65669313, 0.10708681, 0.07529684, 0.46470767, 0.47984544, 0.65368638, 0.14901286, 0.23760688]\n",
      "30\n"
     ]
    }
   ],
   "source": [
    "list_leveled=[]\n",
    "for i in b:\n",
    "    for j in i:\n",
    "        for k in j:\n",
    "            list_leveled.append(k)\n",
    "print(list_leveled)\n",
    "print(len(list_leveled))"
   ]
  },
  {
   "cell_type": "code",
   "execution_count": 30,
   "metadata": {},
   "outputs": [
    {
     "name": "stdout",
     "output_type": "stream",
     "text": [
      "[0.55867166, 0.06210792, 0.08147297, 0.82579068, 0.91512478, 0.06833034, 0.05440634, 0.65857693, 0.30296619, 0.06769833, 0.96031863, 0.51293743, 0.09143215, 0.71893382, 0.45850679, 0.58256464, 0.59005654, 0.56266457, 0.71600294, 0.87392666, 0.11434044, 0.8694668, 0.65669313, 0.10708681, 0.07529684, 0.46470767, 0.47984544, 0.65368638, 0.14901286, 0.23760688]\n",
      "30\n"
     ]
    }
   ],
   "source": [
    "list_leveled_comp=[k for i in b for j in i for k in j]\n",
    "print(list_leveled_comp)\n",
    "print(len(list_leveled_comp))"
   ]
  },
  {
   "cell_type": "markdown",
   "metadata": {},
   "source": [
    "#### 6. Añade una condición a la comprensión de lista anterior para que se imprima el último valor en cada subarray, pero solo si es menor o igual a 0.5."
   ]
  },
  {
   "cell_type": "code",
   "execution_count": 31,
   "metadata": {},
   "outputs": [
    {
     "name": "stdout",
     "output_type": "stream",
     "text": [
      "[0.06210792, 0.08147297, 0.06833034, 0.05440634, 0.30296619, 0.06769833, 0.09143215, 0.45850679, 0.11434044, 0.10708681, 0.07529684, 0.46470767, 0.47984544, 0.14901286, 0.23760688]\n",
      "15\n"
     ]
    }
   ],
   "source": [
    "list_leveled2=[]\n",
    "for i in b:\n",
    "    for j in i:\n",
    "        for k in j:\n",
    "            if k <= 0.5:\n",
    "                list_leveled2.append(k)\n",
    "print(list_leveled2)\n",
    "print(len(list_leveled2))"
   ]
  },
  {
   "cell_type": "code",
   "execution_count": 32,
   "metadata": {},
   "outputs": [
    {
     "name": "stdout",
     "output_type": "stream",
     "text": [
      "[0.06210792, 0.08147297, 0.06833034, 0.05440634, 0.30296619, 0.06769833, 0.09143215, 0.45850679, 0.11434044, 0.10708681, 0.07529684, 0.46470767, 0.47984544, 0.14901286, 0.23760688]\n",
      "15\n"
     ]
    }
   ],
   "source": [
    "list_leveled_comp2=[k for i in b for j in i for k in j if k <= 0.5]\n",
    "print(list_leveled_comp2)\n",
    "print(len(list_leveled_comp2))"
   ]
  },
  {
   "cell_type": "markdown",
   "metadata": {},
   "source": [
    "### Bonus\n",
    "\n",
    "Intenta resolver estas katas usando comprensiones de listas.\n",
    "\n",
    "**Fácil**\n",
    "- [Insertar valores](https://www.codewars.com/kata/invert-values)\n",
    "- [Suma Cuadrado(n)](https://www.codewars.com/kata/square-n-sum)\n",
    "- [Digitalizar](https://www.codewars.com/kata/digitize)\n",
    "- [Filtrado de listas](https://www.codewars.com/kata/list-filtering)\n",
    "- [Lista aritmética](https://www.codewars.com/kata/541da001259d9ca85d000688)\n",
    "\n",
    "**Medio**\n",
    "- [Múltiplos de 3 o 5](https://www.codewars.com/kata/514b92a657cdc65150000006)\n",
    "- [Conteo de positivos / suma de negativos](https://www.codewars.com/kata/count-of-positives-slash-sum-of-negatives)\n",
    "- [Categorizar nuevo miembro](https://www.codewars.com/kata/5502c9e7b3216ec63c0001aa)\n",
    "\n",
    "**Avanzado**\n",
    "- [Contador de tiempo en cola](https://www.codewars.com/kata/queue-time-counter)"
   ]
  },
  {
   "cell_type": "code",
   "execution_count": null,
   "metadata": {},
   "outputs": [],
   "source": [
    "# Given a set of numbers, return the additive inverse of each. Each positive becomes negatives, and the negatives become positives.\n",
    "\n",
    "# invert([1,2,3,4,5]) == [-1,-2,-3,-4,-5]\n",
    "# invert([1,-2,3,-4,5]) == [-1,2,-3,4,-5]\n",
    "# invert([]) == []\n",
    "# You can assume that all values are integers. Do not mutate the input array/list."
   ]
  },
  {
   "cell_type": "code",
   "execution_count": 35,
   "metadata": {},
   "outputs": [
    {
     "data": {
      "text/plain": [
       "[]"
      ]
     },
     "execution_count": 35,
     "metadata": {},
     "output_type": "execute_result"
    }
   ],
   "source": [
    "\n",
    "def invert(lst):\n",
    "    new_lst=[]\n",
    "    for i in lst:\n",
    "        i=i*-1\n",
    "        new_lst.append(i)\n",
    "    return new_lst\n",
    "    pass\n",
    "invert([1,2,3,4,5])\n",
    "invert([1,-2,3,-4,5])\n",
    "invert([])"
   ]
  },
  {
   "cell_type": "code",
   "execution_count": 38,
   "metadata": {},
   "outputs": [
    {
     "data": {
      "text/plain": [
       "[]"
      ]
     },
     "execution_count": 38,
     "metadata": {},
     "output_type": "execute_result"
    }
   ],
   "source": [
    "def invert2(lst):\n",
    "    return [-x for x in lst]\n",
    "invert2([1,2,3,4,5])\n",
    "invert2([1,-2,3,-4,5])\n",
    "invert([])"
   ]
  },
  {
   "cell_type": "code",
   "execution_count": null,
   "metadata": {},
   "outputs": [],
   "source": [
    "# Complete the square sum function so that it squares each number passed into it and then sums the results together.\n",
    "\n",
    "# For example, for [1, 2, 2] it should returu"
   ]
  },
  {
   "cell_type": "code",
   "execution_count": 40,
   "metadata": {},
   "outputs": [
    {
     "data": {
      "text/plain": [
       "14"
      ]
     },
     "execution_count": 40,
     "metadata": {},
     "output_type": "execute_result"
    }
   ],
   "source": [
    "def square_sum(numbers):\n",
    "    sum=0\n",
    "    for i in numbers:\n",
    "        sum +=i**2\n",
    "    return sum\n",
    "\n",
    "square_sum([1,2,3])"
   ]
  },
  {
   "cell_type": "code",
   "execution_count": 46,
   "metadata": {},
   "outputs": [
    {
     "data": {
      "text/plain": [
       "14"
      ]
     },
     "execution_count": 46,
     "metadata": {},
     "output_type": "execute_result"
    }
   ],
   "source": [
    "def square_sum_comp(numbers):\n",
    "    sq=[i**2 for i in numbers]\n",
    "    sum_list=sum(sq)\n",
    "    return sum_list\n",
    "\n",
    "square_sum_comp([1,2,3])"
   ]
  },
  {
   "cell_type": "code",
   "execution_count": null,
   "metadata": {},
   "outputs": [],
   "source": [
    "# Given a non-negative integer, return an array / a list of the individual digits in order.\n",
    "\n",
    "# Examples:\n",
    "\n",
    "# 123 => [1,2,3]\n",
    "\n",
    "# 1 => [1]\n",
    "\n",
    "# 8675309 => [8,6,7,5,3,0,9]"
   ]
  },
  {
   "cell_type": "code",
   "execution_count": 48,
   "metadata": {},
   "outputs": [
    {
     "data": {
      "text/plain": [
       "[1, 2, 3, 4, 5, 6, 7]"
      ]
     },
     "execution_count": 48,
     "metadata": {},
     "output_type": "execute_result"
    }
   ],
   "source": [
    "def digitize(n):\n",
    "    return [int(x) for x in str(n)]\n",
    "\n",
    "digitize(1234567)"
   ]
  },
  {
   "cell_type": "code",
   "execution_count": null,
   "metadata": {},
   "outputs": [],
   "source": [
    "# In this kata you will create a function that takes a list of non-negative integers and strings and returns a new list with the strings filtered out.\n",
    "\n",
    "# Example\n",
    "# filter_list([1,2,'a','b']) == [1,2]\n",
    "# filter_list([1,'a','b',0,15]) == [1,0,15]\n",
    "# filter_list([1,2,'aasf','1','123',123]) == [1,2,123]"
   ]
  },
  {
   "cell_type": "code",
   "execution_count": 63,
   "metadata": {},
   "outputs": [
    {
     "data": {
      "text/plain": [
       "False"
      ]
     },
     "execution_count": 63,
     "metadata": {},
     "output_type": "execute_result"
    }
   ],
   "source": [
    "x = 3\n",
    "isinstance(x, str) == True\n",
    "\n"
   ]
  },
  {
   "cell_type": "code",
   "execution_count": 64,
   "metadata": {},
   "outputs": [
    {
     "data": {
      "text/plain": [
       "True"
      ]
     },
     "execution_count": 64,
     "metadata": {},
     "output_type": "execute_result"
    }
   ],
   "source": [
    "x ='3'\n",
    "isinstance(x, str) == True"
   ]
  },
  {
   "cell_type": "code",
   "execution_count": 65,
   "metadata": {},
   "outputs": [
    {
     "data": {
      "text/plain": [
       "True"
      ]
     },
     "execution_count": 65,
     "metadata": {},
     "output_type": "execute_result"
    }
   ],
   "source": [
    "x = 'abc'\n",
    "isinstance(x, str) == True"
   ]
  },
  {
   "cell_type": "code",
   "execution_count": 68,
   "metadata": {},
   "outputs": [
    {
     "data": {
      "text/plain": [
       "[1, 2, 123]"
      ]
     },
     "execution_count": 68,
     "metadata": {},
     "output_type": "execute_result"
    }
   ],
   "source": [
    "def filter_list(l):\n",
    "    return [x for x in l if not isinstance(x, str) ]\n",
    "\n",
    "filter_list([1, 2, 'aasf', '1', '123', 123])"
   ]
  },
  {
   "cell_type": "code",
   "execution_count": null,
   "metadata": {},
   "outputs": [],
   "source": [
    "# In this kata, you will write an arithmetic list which is basically a list that contains consecutive terms in the sequence.\n",
    "# You will be given three parameters :\n",
    "\n",
    "# first the first term in the sequence\n",
    "# c the constant that you are going to ADD ( since it is an arithmetic sequence...)\n",
    "# l the number of terms that should be returned\n",
    "# Useful link: Sequence\n",
    "\n",
    "# Be sure to check out my Arithmetic sequence Kata first ;)\n",
    "# Don't forget about the indexing pitfall ;)"
   ]
  },
  {
   "cell_type": "code",
   "execution_count": 82,
   "metadata": {},
   "outputs": [
    {
     "data": {
      "text/plain": [
       "[0, 2, 4, 6, 8, 10, 12, 14, 16, 18, 20, 22, 24, 26, 28, 30, 32, 34, 36, 38]"
      ]
     },
     "execution_count": 82,
     "metadata": {},
     "output_type": "execute_result"
    }
   ],
   "source": [
    "def seqlist(first, c, l):\n",
    "    list=[first]\n",
    "    sum=first\n",
    "    while  l!=1:\n",
    "        list.append(sum+c)\n",
    "        l-=1\n",
    "        sum +=c\n",
    "        \n",
    "    return list\n",
    "\n",
    "seqlist(0,2,20)"
   ]
  },
  {
   "cell_type": "code",
   "execution_count": 86,
   "metadata": {},
   "outputs": [
    {
     "data": {
      "text/plain": [
       "[20,\n",
       " 22,\n",
       " 24,\n",
       " 26,\n",
       " 28,\n",
       " 30,\n",
       " 32,\n",
       " 34,\n",
       " 36,\n",
       " 38,\n",
       " 40,\n",
       " 42,\n",
       " 44,\n",
       " 46,\n",
       " 48,\n",
       " 50,\n",
       " 52,\n",
       " 54,\n",
       " 56,\n",
       " 58]"
      ]
     },
     "execution_count": 86,
     "metadata": {},
     "output_type": "execute_result"
    }
   ],
   "source": [
    "def seqlist2(first, c, l):\n",
    "    list=[]\n",
    "    for i in range(first, l*c+first,c):\n",
    "        list.append(i)\n",
    "    return list\n",
    "seqlist2(20,2,20)"
   ]
  },
  {
   "cell_type": "code",
   "execution_count": 87,
   "metadata": {},
   "outputs": [
    {
     "data": {
      "text/plain": [
       "[20,\n",
       " 22,\n",
       " 24,\n",
       " 26,\n",
       " 28,\n",
       " 30,\n",
       " 32,\n",
       " 34,\n",
       " 36,\n",
       " 38,\n",
       " 40,\n",
       " 42,\n",
       " 44,\n",
       " 46,\n",
       " 48,\n",
       " 50,\n",
       " 52,\n",
       " 54,\n",
       " 56,\n",
       " 58]"
      ]
     },
     "execution_count": 87,
     "metadata": {},
     "output_type": "execute_result"
    }
   ],
   "source": [
    "def seqlist3(first, c, l):\n",
    "    return [i for i in range(first, l*c+first, c)]\n",
    "    \n",
    "seqlist3(20,2,20)"
   ]
  },
  {
   "cell_type": "code",
   "execution_count": null,
   "metadata": {},
   "outputs": [],
   "source": [
    "# If we list all the natural numbers below 10 that are multiples of 3 or 5, we get 3, 5, 6 and 9. The sum of these multiples is 23.\n",
    "\n",
    "# Finish the solution so that it returns the sum of all the multiples of 3 or 5 below the number passed in.\n",
    "\n",
    "# Additionally, if the number is negative, return 0.\n",
    "\n",
    "# Note: If the number is a multiple of both 3 and 5, only count it once."
   ]
  },
  {
   "cell_type": "code",
   "execution_count": 88,
   "metadata": {},
   "outputs": [
    {
     "data": {
      "text/plain": [
       "23"
      ]
     },
     "execution_count": 88,
     "metadata": {},
     "output_type": "execute_result"
    }
   ],
   "source": [
    "def solution(number):\n",
    "    lst=[]\n",
    "    for i in range(number):\n",
    "        if i%3==0 or i%5==0:\n",
    "            lst.append(i)\n",
    "    return sum(lst)\n",
    "\n",
    "solution(10)"
   ]
  },
  {
   "cell_type": "code",
   "execution_count": 90,
   "metadata": {},
   "outputs": [
    {
     "data": {
      "text/plain": [
       "23"
      ]
     },
     "execution_count": 90,
     "metadata": {},
     "output_type": "execute_result"
    }
   ],
   "source": [
    "def solution2(number):\n",
    "    return sum([i for i in range(number) if i%3==0 or i%5==0])\n",
    "\n",
    "solution2(10)"
   ]
  },
  {
   "cell_type": "code",
   "execution_count": null,
   "metadata": {},
   "outputs": [],
   "source": [
    "# Given an array of integers.\n",
    "\n",
    "# Return an array, where the first element is the count of positives numbers and the second element is sum of negative numbers. 0 is neither positive nor negative.\n",
    "\n",
    "# If the input is an empty array or is null, return an empty array.\n",
    "\n",
    "# Example\n",
    "# For input [1, 2, 3, 4, 5, 6, 7, 8, 9, 10, -11, -12, -13, -14, -15], you should return [10, -65]."
   ]
  },
  {
   "cell_type": "code",
   "execution_count": 118,
   "metadata": {},
   "outputs": [
    {
     "data": {
      "text/plain": [
       "[10, -65]"
      ]
     },
     "execution_count": 118,
     "metadata": {},
     "output_type": "execute_result"
    }
   ],
   "source": [
    "def count_positives_sum_negatives(arr):\n",
    "    new_arr = []\n",
    "    sum_pos=0\n",
    "    sum_neg=0\n",
    "    if len(arr) ==0 or arr is None:\n",
    "        return new_arr\n",
    "    else:\n",
    "        for i in arr:\n",
    "            if i > 0:\n",
    "                sum_pos+=1\n",
    "            if i<0:\n",
    "                sum_neg+=i\n",
    "\n",
    "    new_arr.append(sum_pos)\n",
    "    new_arr.append(sum_neg)\n",
    "    return new_arr\n",
    "\n",
    "count_positives_sum_negatives([1, 2, 3, 4, 5, 6, 7, 8, 9, 10, -11, -12, -13, -14, -15])"
   ]
  },
  {
   "cell_type": "code",
   "execution_count": 127,
   "metadata": {},
   "outputs": [
    {
     "data": {
      "text/plain": [
       "[10, -65]"
      ]
     },
     "execution_count": 127,
     "metadata": {},
     "output_type": "execute_result"
    }
   ],
   "source": [
    "def count_positives_sum_negatives2(arr):\n",
    "    if arr is None or len(arr) == 0: \n",
    "        return []\n",
    "\n",
    "    sum_pos = sum(1 for i in arr if i > 0)  \n",
    "    sum_neg = sum(i for i in arr if i < 0)  \n",
    "\n",
    "    return [sum_pos, sum_neg]\n",
    "count_positives_sum_negatives2([1, 2, 3, 4, 5, 6, 7, 8, 9, 10, -11, -12, -13, -14, -15])"
   ]
  },
  {
   "cell_type": "code",
   "execution_count": null,
   "metadata": {},
   "outputs": [],
   "source": [
    "# # DESCRIPTION:\n",
    "\n",
    "# # The Western Suburbs Croquet Club has two categories of membership, Senior and Open. \n",
    "# #They would like your help with an application form that will tell prospective members\n",
    "# which category they will be placed.\n",
    "\n",
    "# # To be a senior, a member must be at least 55 years old and have a handicap greater than 7. \n",
    "# In this croquet club, handicaps range from -2 to +26; the better the player the lower the\n",
    "# handicap.\n",
    "# # Input will consist of a list of pairs. Each pair contains information for a single \n",
    "# potential member. Information consists of an integer for the person's \n",
    "# age and an integer for the person's handicap.\n",
    "# # Output will consist of a list of string values (in Haskell and C: Open or Senior) \n",
    "# stating whether the respective member is to be placed in the senior or open category.\n",
    "\n",
    "# # Example\n",
    "# # input =  [[18, 20], [45, 2], [61, 12], [37, 6], [21, 21], [78, 9]]\n",
    "# # output = [\"Open\", \"Open\", \"Senior\", \"Open\", \"Open\", \"Senior\"]"
   ]
  },
  {
   "cell_type": "code",
   "execution_count": 3,
   "metadata": {
    "editable": true,
    "slideshow": {
     "slide_type": ""
    },
    "tags": []
   },
   "outputs": [
    {
     "data": {
      "text/plain": [
       "['Open', 'Open', 'Senior', 'Open', 'Open', 'Senior']"
      ]
     },
     "execution_count": 3,
     "metadata": {},
     "output_type": "execute_result"
    }
   ],
   "source": [
    "def open_or_senior(data):\n",
    "    lst=[]\n",
    "    for i in data:\n",
    "        if i[0]>=55 and i[1]>7:\n",
    "            lst.append('Senior')\n",
    "        else:\n",
    "            lst.append('Open')\n",
    "    return lst\n",
    "\n",
    "open_or_senior([[18, 20], [45, 2], [61, 12], [37, 6], [21, 21], [78, 9]])"
   ]
  },
  {
   "cell_type": "code",
   "execution_count": 7,
   "metadata": {},
   "outputs": [
    {
     "data": {
      "text/plain": [
       "['Open', 'Open', 'Senior', 'Open', 'Open', 'Senior']"
      ]
     },
     "execution_count": 7,
     "metadata": {},
     "output_type": "execute_result"
    }
   ],
   "source": [
    "def open_or_senior2(data):\n",
    "    return ['Senior' if i[0]>=55 and i[1]>7 else 'Open' for i in data]\n",
    "\n",
    "open_or_senior2([[18, 20], [45, 2], [61, 12], [37, 6], [21, 21], [78, 9]])\n"
   ]
  },
  {
   "cell_type": "code",
   "execution_count": null,
   "metadata": {},
   "outputs": [],
   "source": [
    "# You managed to send your friend to queue for tickets in your stead, but there is a catch: \n",
    "# he will get there only if you tell him how much that is going to take. And everybody can \n",
    "# only take one ticket at a time, then they go back in the last position of the queue if \n",
    "# they need more (or go home if they are fine).\n",
    "# Each ticket takes one minutes to emit, the queue is well disciplined, Brit-style, and so \n",
    "# it moves smoothly, with no waste of time.\n",
    "# You will be given an array/list/vector with all the people queuing and the initial \n",
    "# position of your buddy, so for example, knowing that your friend is in the third position \n",
    "# (that we will consider equal to the index, 2 (3 in COBOL): he is the guy that wants 3 \n",
    "# tickets!) and the initial queue is [2, 5, 3, 4, 6].\n",
    "# The first dude gets his ticket and the queue goes now like this [5, 3, 4, 6, 1], then \n",
    "# [3, 4, 6, 1, 4] and so on. In the end, our buddy will be queuing for 12 minutes, true story!\n",
    "# Build a function to compute it, resting assured that only positive integers are going to be\n",
    "# there and you will be always given a valid index; but we also want to go to pretty popular\n",
    "# events, so be ready for big queues with people getting plenty of tickets."
   ]
  },
  {
   "cell_type": "code",
   "execution_count": 57,
   "metadata": {},
   "outputs": [
    {
     "name": "stdout",
     "output_type": "stream",
     "text": [
      "Initial value: 4\n",
      "[1, 5, 3, 6, 1]\n",
      "1\n",
      "[5, 3, 6, 1, 0]\n",
      "2\n",
      "[4, 6, 1, 0, 4]\n",
      "3\n",
      "[3, 6, 0, 4, 3]\n",
      "4\n",
      "[2, 6, 0, 3, 2]\n",
      "5\n",
      "[1, 6, 0, 3, 1]\n",
      "6\n",
      "Position under question value: 1\n",
      "[0, 6, 0, 3, 0]\n",
      "7\n",
      "[5, 3, 0, 0, 5]\n",
      "8\n",
      "[4, 3, 0, 5, 4]\n",
      "9\n",
      "[3, 3, 0, 4, 3]\n",
      "10\n",
      "[2, 3, 0, 4, 2]\n",
      "11\n",
      "Position under question value: 2\n",
      "[1, 3, 0, 4, 1]\n",
      "12\n",
      "[3, 0, 4, 1, 0]\n",
      "13\n",
      "[2, 4, 1, 0, 2]\n",
      "14\n",
      "[1, 4, 0, 2, 1]\n",
      "15\n",
      "[0, 4, 0, 1, 0]\n",
      "16\n",
      "Position under question value: 0\n"
     ]
    },
    {
     "data": {
      "text/plain": [
       "16"
      ]
     },
     "execution_count": 57,
     "metadata": {},
     "output_type": "execute_result"
    }
   ],
   "source": [
    "def queue(queuers, pos):\n",
    "    time = 0\n",
    "    print(\"Initial value: \"+str(queuers[pos-1]))\n",
    "\n",
    "    while queuers[pos-1] > 0:\n",
    "        for i in range(-1,len(queuers)):\n",
    "            if queuers[0] > 0:\n",
    "                queuers[0] -= 1\n",
    "                first = queuers[0]\n",
    "                #print(\"Bought onee ticket\")\n",
    "                queuers.pop(i)\n",
    "                queuers.append(first)\n",
    "                #print(\"Moved to the end of the queue\")\n",
    "                time += 1\n",
    "                print(queuers)\n",
    "                print(time)\n",
    "                \n",
    "            else:\n",
    "                first = queuers[0]\n",
    "                queuers.pop(i)\n",
    "                queuers.append(first)\n",
    "                #print(\"I am negative \" + str(queuers))\n",
    "                #print(\"Should not change\" +str(time))\n",
    "        print(\"Position under question value: \"+str(queuers[pos]))\n",
    "    return(time)\n",
    "\n",
    "queue([2, 5, 3, 6, 4], 0)\n",
    "        "
   ]
  },
  {
   "cell_type": "code",
   "execution_count": 59,
   "metadata": {},
   "outputs": [
    {
     "name": "stdout",
     "output_type": "stream",
     "text": [
      "2\n",
      "5\n",
      "3\n",
      "6\n",
      "4\n",
      "1\n"
     ]
    },
    {
     "data": {
      "text/plain": [
       "6"
      ]
     },
     "execution_count": 59,
     "metadata": {},
     "output_type": "execute_result"
    }
   ],
   "source": [
    "def queue(queuers,pos):\n",
    "    minutes = 0\n",
    "    while 1:\n",
    "        print(queuers[0])\n",
    "        minutes += 1\n",
    "        queuers[0] -= 1\n",
    "        if queuers[0] > 0:\n",
    "            queuers.append(queuers[0])\n",
    "        elif queuers[pos] == 0:\n",
    "            break\n",
    "        queuers.pop(0)\n",
    "        if pos > 0:\n",
    "            pos -= 1\n",
    "        else:\n",
    "            pos = len(queuers)-1\n",
    "        queuers = queuers[:]\n",
    "    return minutes\n",
    "\n",
    "queue([2, 5, 3, 6, 4], 0)"
   ]
  },
  {
   "cell_type": "code",
   "execution_count": 60,
   "metadata": {},
   "outputs": [
    {
     "data": {
      "text/plain": [
       "6"
      ]
     },
     "execution_count": 60,
     "metadata": {},
     "output_type": "execute_result"
    }
   ],
   "source": [
    "#I did not do this code, but was interesting to learn about enumirate\n",
    "def queue(queuers,pos):\n",
    "    return sum(min(queuer, queuers[pos] - (place > pos)) for place, queuer in enumerate(queuers))\n",
    "\n",
    "queue([2, 5, 3, 6, 4], 0)"
   ]
  },
  {
   "cell_type": "code",
   "execution_count": 68,
   "metadata": {},
   "outputs": [
    {
     "data": {
      "text/plain": [
       "17"
      ]
     },
     "execution_count": 68,
     "metadata": {},
     "output_type": "execute_result"
    }
   ],
   "source": [
    "def queue(queuers, pos):\n",
    "    total_time = 0  \n",
    "    for place, queuer in enumerate(queuers, start=pos):  \n",
    "        if place >= pos:  \n",
    "            remaining_tickets = queuers[pos]-1\n",
    "        else:\n",
    "            remaining_tickets = queuers[pos]  \n",
    "        time_for_person = min(queuer, remaining_tickets)  \n",
    "        total_time += time_for_person  \n",
    "    return total_time\n",
    "\n",
    "# Example usage\n",
    "queue([2, 5, 3, 6, 4], 1)"
   ]
  },
  {
   "cell_type": "code",
   "execution_count": null,
   "metadata": {},
   "outputs": [],
   "source": []
  }
 ],
 "metadata": {
  "kernelspec": {
   "display_name": "Python 3 (ipykernel)",
   "language": "python",
   "name": "python3"
  },
  "language_info": {
   "codemirror_mode": {
    "name": "ipython",
    "version": 3
   },
   "file_extension": ".py",
   "mimetype": "text/x-python",
   "name": "python",
   "nbconvert_exporter": "python",
   "pygments_lexer": "ipython3",
   "version": "3.12.2"
  },
  "vscode": {
   "interpreter": {
    "hash": "aee8b7b246df8f9039afb4144a1f6fd8d2ca17a180786b69acc140d282b71a49"
   }
  }
 },
 "nbformat": 4,
 "nbformat_minor": 4
}
